{
  "cells": [
    {
      "cell_type": "markdown",
      "metadata": {
        "id": "pbgZMdw2dm2K"
      },
      "source": [
        "# Reto 3: Desviación estándar\n",
        "\n",
        "## 1. Objetivos:\n",
        "- Utilizar la desviación estándar para realizar un análisis de dispersión de nuestros datos\n",
        " \n",
        "---\n",
        "    \n",
        "## 2. Desarrollo:"
      ]
    },
    {
      "cell_type": "markdown",
      "metadata": {
        "id": "9QWlQvPJdm2M"
      },
      "source": [
        "### a) Desviación estándar y distribución de los datos\n",
        "\n",
        "Como ya vimos, la desviación estándar es la medida que nos da la \"desviación típica\" (o esperada) de nuestros datos a comparación del promedio. Eso quiere decir que normalmente vamos a esperar que una gran parte de nuestros datos se encuentren a 1 desviación estándar de distancia del promedio. Entre más nos alejamos, menos muestras deberíamos de encontrar.\n",
        "\n",
        "Vamos a comprobar esto usando nuestro dataset de meteoritos que orbitan cerca de la Tierra. Tu Reto consiste en los siguientes pasos:\n",
        "\n",
        "1. Crea un DataFrame con el dataset `near_earth_objects-jan_feb_1995-clean.csv`.\n",
        "2. Obtén la cantidad total de datos en tu DataFrame.\n",
        "3. Obtén la desviación estándar de la columna 'estimated_diameter.meters.estimated_diameter_max'. Los siguientes pasos realízalos todos utilizando esta columna.\n",
        "4. Obtén el porcentaje de muestras que están a una distancia de 1 desviación estándar del promedio.\n",
        "5. Obtén el porcentaje de muestras que están a una distancia de 2 desviaciones estándares del promedio (multiplicar * 2).\n",
        "6. Obtén el porcentaje de muestras que están a una distancia de 3 desviaciones estándares del promedio (multiplicar * 3).\n",
        "7. Compara los porcentajes obtenidos y comenta con tus compañeros y la experta tus hallazgos. ¿Qué significa esto? ¿La definición de desviación estándar tiene sentido? ¿Qué puedo inferir acerca de la dispersión de mis datos a partir de los valores obtenidos?\n",
        "\n",
        "> Nota: Para obtener los porcentajes de los subconjuntos primero necesitas filtrar el DataFrame original para que sólo permanezcan las muestras que cumplan con los requisitos.\n",
        "\n",
        "> Nota: Este Reto está diseñado para tener una dificultad media. No te frustres si al principio parece demasiado difícil. Comienza poco a poco, resolviendo el problema en pedazos pequeños, y si no tienes la menor idea de cómo proceder recuerda que la experta está ahí para ayudarte."
      ]
    },
    {
      "cell_type": "markdown",
      "source": [
        "## Puntos 1 al 3"
      ],
      "metadata": {
        "id": "YKqkU9Ijb6_s"
      }
    },
    {
      "cell_type": "code",
      "source": [
        "# Carga de bibliotecas\n",
        "import numpy as np\n",
        "import pandas as pd"
      ],
      "metadata": {
        "id": "e790Kab7dxG1"
      },
      "execution_count": 1,
      "outputs": []
    },
    {
      "cell_type": "code",
      "source": [
        "# 1. Crear DataFrame\n",
        "df_meteoritos = pd.read_csv(\"https://raw.githubusercontent.com/jaeem006/beduadp/master/Datasets/near_earth_objects-jan_feb_1995-clean.csv\", index_col= 0)"
      ],
      "metadata": {
        "id": "pjvkUVXQdxDg"
      },
      "execution_count": 4,
      "outputs": []
    },
    {
      "cell_type": "code",
      "source": [
        "# 2. Cantidad de datos en el DataFrame (filas)\n",
        "num_filas = df_meteoritos.shape[0]\n",
        "print(f\"El DataFrame tiene {num_filas} filas\")\n",
        "df_meteoritos"
      ],
      "metadata": {
        "colab": {
          "base_uri": "https://localhost:8080/",
          "height": 704
        },
        "id": "Cmk7Kg2gdxAy",
        "outputId": "8bb82877-36bd-44ff-d38e-ba53bca69123"
      },
      "execution_count": 5,
      "outputs": [
        {
          "output_type": "stream",
          "name": "stdout",
          "text": [
            "El DataFrame tiene 333 filas\n"
          ]
        },
        {
          "output_type": "execute_result",
          "data": {
            "text/plain": [
              "          id                 name  is_potentially_hazardous_asteroid  \\\n",
              "0    2154652   154652 (2004 EP20)                              False   \n",
              "1    3153509            (2003 HM)                               True   \n",
              "2    3516633            (2010 HA)                              False   \n",
              "3    3837644           (2019 AY3)                              False   \n",
              "4    3843493            (2019 PY)                              False   \n",
              "..       ...                  ...                                ...   \n",
              "328  2267136  267136 (2000 EF104)                              False   \n",
              "329  3360486           (2006 WE4)                              False   \n",
              "330  3656919           (2014 BG3)                              False   \n",
              "331  3803762           (2018 GY4)                              False   \n",
              "332  3989652           (2020 CH1)                              False   \n",
              "\n",
              "     estimated_diameter.meters.estimated_diameter_min  \\\n",
              "0                                          483.676488   \n",
              "1                                           96.506147   \n",
              "2                                           44.111820   \n",
              "3                                           46.190746   \n",
              "4                                           22.108281   \n",
              "..                                                ...   \n",
              "328                                        441.118200   \n",
              "329                                        441.118200   \n",
              "330                                        160.160338   \n",
              "331                                        421.264611   \n",
              "332                                         21.525586   \n",
              "\n",
              "     estimated_diameter.meters.estimated_diameter_max close_approach_date  \\\n",
              "0                                         1081.533507          1995-01-07   \n",
              "1                                          215.794305          1995-01-07   \n",
              "2                                           98.637028          1995-01-07   \n",
              "3                                          103.285648          1995-01-07   \n",
              "4                                           49.435619          1995-01-07   \n",
              "..                                                ...                 ...   \n",
              "328                                        986.370281          1995-02-21   \n",
              "329                                        986.370281          1995-02-21   \n",
              "330                                        358.129403          1995-02-21   \n",
              "331                                        941.976306          1995-02-21   \n",
              "332                                         48.132673          1995-02-21   \n",
              "\n",
              "     epoch_date_close_approach orbiting_body  \\\n",
              "0                 789467580000         Earth   \n",
              "1                 789491340000         Earth   \n",
              "2                 789446820000         Earth   \n",
              "3                 789513900000         Earth   \n",
              "4                 789446700000         Earth   \n",
              "..                         ...           ...   \n",
              "328               793340220000         Earth   \n",
              "329               793381440000         Earth   \n",
              "330               793368480000         Earth   \n",
              "331               793371240000         Earth   \n",
              "332               793404900000         Earth   \n",
              "\n",
              "     relative_velocity.kilometers_per_second  \\\n",
              "0                                  16.142864   \n",
              "1                                  12.351044   \n",
              "2                                   6.220435   \n",
              "3                                  22.478615   \n",
              "4                                   4.998691   \n",
              "..                                       ...   \n",
              "328                                16.180392   \n",
              "329                                15.106140   \n",
              "330                                20.343173   \n",
              "331                                29.732426   \n",
              "332                                 6.998083   \n",
              "\n",
              "     relative_velocity.kilometers_per_hour  \n",
              "0                             58114.308667  \n",
              "1                             44463.757734  \n",
              "2                             22393.567277  \n",
              "3                             80923.015021  \n",
              "4                             17995.288355  \n",
              "..                                     ...  \n",
              "328                           58249.410194  \n",
              "329                           54382.104639  \n",
              "330                           73235.423517  \n",
              "331                          107036.733058  \n",
              "332                           25193.097928  \n",
              "\n",
              "[333 rows x 10 columns]"
            ],
            "text/html": [
              "\n",
              "  <div id=\"df-832e15fa-e1a3-4849-89aa-445d24351441\">\n",
              "    <div class=\"colab-df-container\">\n",
              "      <div>\n",
              "<style scoped>\n",
              "    .dataframe tbody tr th:only-of-type {\n",
              "        vertical-align: middle;\n",
              "    }\n",
              "\n",
              "    .dataframe tbody tr th {\n",
              "        vertical-align: top;\n",
              "    }\n",
              "\n",
              "    .dataframe thead th {\n",
              "        text-align: right;\n",
              "    }\n",
              "</style>\n",
              "<table border=\"1\" class=\"dataframe\">\n",
              "  <thead>\n",
              "    <tr style=\"text-align: right;\">\n",
              "      <th></th>\n",
              "      <th>id</th>\n",
              "      <th>name</th>\n",
              "      <th>is_potentially_hazardous_asteroid</th>\n",
              "      <th>estimated_diameter.meters.estimated_diameter_min</th>\n",
              "      <th>estimated_diameter.meters.estimated_diameter_max</th>\n",
              "      <th>close_approach_date</th>\n",
              "      <th>epoch_date_close_approach</th>\n",
              "      <th>orbiting_body</th>\n",
              "      <th>relative_velocity.kilometers_per_second</th>\n",
              "      <th>relative_velocity.kilometers_per_hour</th>\n",
              "    </tr>\n",
              "  </thead>\n",
              "  <tbody>\n",
              "    <tr>\n",
              "      <th>0</th>\n",
              "      <td>2154652</td>\n",
              "      <td>154652 (2004 EP20)</td>\n",
              "      <td>False</td>\n",
              "      <td>483.676488</td>\n",
              "      <td>1081.533507</td>\n",
              "      <td>1995-01-07</td>\n",
              "      <td>789467580000</td>\n",
              "      <td>Earth</td>\n",
              "      <td>16.142864</td>\n",
              "      <td>58114.308667</td>\n",
              "    </tr>\n",
              "    <tr>\n",
              "      <th>1</th>\n",
              "      <td>3153509</td>\n",
              "      <td>(2003 HM)</td>\n",
              "      <td>True</td>\n",
              "      <td>96.506147</td>\n",
              "      <td>215.794305</td>\n",
              "      <td>1995-01-07</td>\n",
              "      <td>789491340000</td>\n",
              "      <td>Earth</td>\n",
              "      <td>12.351044</td>\n",
              "      <td>44463.757734</td>\n",
              "    </tr>\n",
              "    <tr>\n",
              "      <th>2</th>\n",
              "      <td>3516633</td>\n",
              "      <td>(2010 HA)</td>\n",
              "      <td>False</td>\n",
              "      <td>44.111820</td>\n",
              "      <td>98.637028</td>\n",
              "      <td>1995-01-07</td>\n",
              "      <td>789446820000</td>\n",
              "      <td>Earth</td>\n",
              "      <td>6.220435</td>\n",
              "      <td>22393.567277</td>\n",
              "    </tr>\n",
              "    <tr>\n",
              "      <th>3</th>\n",
              "      <td>3837644</td>\n",
              "      <td>(2019 AY3)</td>\n",
              "      <td>False</td>\n",
              "      <td>46.190746</td>\n",
              "      <td>103.285648</td>\n",
              "      <td>1995-01-07</td>\n",
              "      <td>789513900000</td>\n",
              "      <td>Earth</td>\n",
              "      <td>22.478615</td>\n",
              "      <td>80923.015021</td>\n",
              "    </tr>\n",
              "    <tr>\n",
              "      <th>4</th>\n",
              "      <td>3843493</td>\n",
              "      <td>(2019 PY)</td>\n",
              "      <td>False</td>\n",
              "      <td>22.108281</td>\n",
              "      <td>49.435619</td>\n",
              "      <td>1995-01-07</td>\n",
              "      <td>789446700000</td>\n",
              "      <td>Earth</td>\n",
              "      <td>4.998691</td>\n",
              "      <td>17995.288355</td>\n",
              "    </tr>\n",
              "    <tr>\n",
              "      <th>...</th>\n",
              "      <td>...</td>\n",
              "      <td>...</td>\n",
              "      <td>...</td>\n",
              "      <td>...</td>\n",
              "      <td>...</td>\n",
              "      <td>...</td>\n",
              "      <td>...</td>\n",
              "      <td>...</td>\n",
              "      <td>...</td>\n",
              "      <td>...</td>\n",
              "    </tr>\n",
              "    <tr>\n",
              "      <th>328</th>\n",
              "      <td>2267136</td>\n",
              "      <td>267136 (2000 EF104)</td>\n",
              "      <td>False</td>\n",
              "      <td>441.118200</td>\n",
              "      <td>986.370281</td>\n",
              "      <td>1995-02-21</td>\n",
              "      <td>793340220000</td>\n",
              "      <td>Earth</td>\n",
              "      <td>16.180392</td>\n",
              "      <td>58249.410194</td>\n",
              "    </tr>\n",
              "    <tr>\n",
              "      <th>329</th>\n",
              "      <td>3360486</td>\n",
              "      <td>(2006 WE4)</td>\n",
              "      <td>False</td>\n",
              "      <td>441.118200</td>\n",
              "      <td>986.370281</td>\n",
              "      <td>1995-02-21</td>\n",
              "      <td>793381440000</td>\n",
              "      <td>Earth</td>\n",
              "      <td>15.106140</td>\n",
              "      <td>54382.104639</td>\n",
              "    </tr>\n",
              "    <tr>\n",
              "      <th>330</th>\n",
              "      <td>3656919</td>\n",
              "      <td>(2014 BG3)</td>\n",
              "      <td>False</td>\n",
              "      <td>160.160338</td>\n",
              "      <td>358.129403</td>\n",
              "      <td>1995-02-21</td>\n",
              "      <td>793368480000</td>\n",
              "      <td>Earth</td>\n",
              "      <td>20.343173</td>\n",
              "      <td>73235.423517</td>\n",
              "    </tr>\n",
              "    <tr>\n",
              "      <th>331</th>\n",
              "      <td>3803762</td>\n",
              "      <td>(2018 GY4)</td>\n",
              "      <td>False</td>\n",
              "      <td>421.264611</td>\n",
              "      <td>941.976306</td>\n",
              "      <td>1995-02-21</td>\n",
              "      <td>793371240000</td>\n",
              "      <td>Earth</td>\n",
              "      <td>29.732426</td>\n",
              "      <td>107036.733058</td>\n",
              "    </tr>\n",
              "    <tr>\n",
              "      <th>332</th>\n",
              "      <td>3989652</td>\n",
              "      <td>(2020 CH1)</td>\n",
              "      <td>False</td>\n",
              "      <td>21.525586</td>\n",
              "      <td>48.132673</td>\n",
              "      <td>1995-02-21</td>\n",
              "      <td>793404900000</td>\n",
              "      <td>Earth</td>\n",
              "      <td>6.998083</td>\n",
              "      <td>25193.097928</td>\n",
              "    </tr>\n",
              "  </tbody>\n",
              "</table>\n",
              "<p>333 rows × 10 columns</p>\n",
              "</div>\n",
              "      <button class=\"colab-df-convert\" onclick=\"convertToInteractive('df-832e15fa-e1a3-4849-89aa-445d24351441')\"\n",
              "              title=\"Convert this dataframe to an interactive table.\"\n",
              "              style=\"display:none;\">\n",
              "        \n",
              "  <svg xmlns=\"http://www.w3.org/2000/svg\" height=\"24px\"viewBox=\"0 0 24 24\"\n",
              "       width=\"24px\">\n",
              "    <path d=\"M0 0h24v24H0V0z\" fill=\"none\"/>\n",
              "    <path d=\"M18.56 5.44l.94 2.06.94-2.06 2.06-.94-2.06-.94-.94-2.06-.94 2.06-2.06.94zm-11 1L8.5 8.5l.94-2.06 2.06-.94-2.06-.94L8.5 2.5l-.94 2.06-2.06.94zm10 10l.94 2.06.94-2.06 2.06-.94-2.06-.94-.94-2.06-.94 2.06-2.06.94z\"/><path d=\"M17.41 7.96l-1.37-1.37c-.4-.4-.92-.59-1.43-.59-.52 0-1.04.2-1.43.59L10.3 9.45l-7.72 7.72c-.78.78-.78 2.05 0 2.83L4 21.41c.39.39.9.59 1.41.59.51 0 1.02-.2 1.41-.59l7.78-7.78 2.81-2.81c.8-.78.8-2.07 0-2.86zM5.41 20L4 18.59l7.72-7.72 1.47 1.35L5.41 20z\"/>\n",
              "  </svg>\n",
              "      </button>\n",
              "      \n",
              "  <style>\n",
              "    .colab-df-container {\n",
              "      display:flex;\n",
              "      flex-wrap:wrap;\n",
              "      gap: 12px;\n",
              "    }\n",
              "\n",
              "    .colab-df-convert {\n",
              "      background-color: #E8F0FE;\n",
              "      border: none;\n",
              "      border-radius: 50%;\n",
              "      cursor: pointer;\n",
              "      display: none;\n",
              "      fill: #1967D2;\n",
              "      height: 32px;\n",
              "      padding: 0 0 0 0;\n",
              "      width: 32px;\n",
              "    }\n",
              "\n",
              "    .colab-df-convert:hover {\n",
              "      background-color: #E2EBFA;\n",
              "      box-shadow: 0px 1px 2px rgba(60, 64, 67, 0.3), 0px 1px 3px 1px rgba(60, 64, 67, 0.15);\n",
              "      fill: #174EA6;\n",
              "    }\n",
              "\n",
              "    [theme=dark] .colab-df-convert {\n",
              "      background-color: #3B4455;\n",
              "      fill: #D2E3FC;\n",
              "    }\n",
              "\n",
              "    [theme=dark] .colab-df-convert:hover {\n",
              "      background-color: #434B5C;\n",
              "      box-shadow: 0px 1px 3px 1px rgba(0, 0, 0, 0.15);\n",
              "      filter: drop-shadow(0px 1px 2px rgba(0, 0, 0, 0.3));\n",
              "      fill: #FFFFFF;\n",
              "    }\n",
              "  </style>\n",
              "\n",
              "      <script>\n",
              "        const buttonEl =\n",
              "          document.querySelector('#df-832e15fa-e1a3-4849-89aa-445d24351441 button.colab-df-convert');\n",
              "        buttonEl.style.display =\n",
              "          google.colab.kernel.accessAllowed ? 'block' : 'none';\n",
              "\n",
              "        async function convertToInteractive(key) {\n",
              "          const element = document.querySelector('#df-832e15fa-e1a3-4849-89aa-445d24351441');\n",
              "          const dataTable =\n",
              "            await google.colab.kernel.invokeFunction('convertToInteractive',\n",
              "                                                     [key], {});\n",
              "          if (!dataTable) return;\n",
              "\n",
              "          const docLinkHtml = 'Like what you see? Visit the ' +\n",
              "            '<a target=\"_blank\" href=https://colab.research.google.com/notebooks/data_table.ipynb>data table notebook</a>'\n",
              "            + ' to learn more about interactive tables.';\n",
              "          element.innerHTML = '';\n",
              "          dataTable['output_type'] = 'display_data';\n",
              "          await google.colab.output.renderOutput(dataTable, element);\n",
              "          const docLink = document.createElement('div');\n",
              "          docLink.innerHTML = docLinkHtml;\n",
              "          element.appendChild(docLink);\n",
              "        }\n",
              "      </script>\n",
              "    </div>\n",
              "  </div>\n",
              "  "
            ]
          },
          "metadata": {},
          "execution_count": 5
        }
      ]
    },
    {
      "cell_type": "code",
      "source": [
        "# 3. Obtén la desviación estándar de la columna 'estimated_diameter.meters.estimated_diameter_max'. \n",
        "#    Los siguientes pasos realízalos todos utilizando esta columna.\n",
        "\n",
        "std_diametros = df_meteoritos['estimated_diameter.meters.estimated_diameter_max'].std()\n",
        "# Tambien la media\n",
        "media_diametros = df_meteoritos['estimated_diameter.meters.estimated_diameter_max'].mean()\n",
        "\n",
        "print(f\"La media aritmetica es {media_diametros}\")\n",
        "print(f\"La desviacion estandar es {std_diametros}\")"
      ],
      "metadata": {
        "colab": {
          "base_uri": "https://localhost:8080/"
        },
        "id": "hrSTLITvdw1H",
        "outputId": "9a492db1-6d4d-4ab9-f50e-e0f5db5b5dad"
      },
      "execution_count": 6,
      "outputs": [
        {
          "output_type": "stream",
          "name": "stdout",
          "text": [
            "La media aritmetica es 410.08604223976545\n",
            "La desviacion estandar es 614.6915918552232\n"
          ]
        }
      ]
    },
    {
      "cell_type": "markdown",
      "source": [
        "## ¿Qué significa que un dato esté a 1, 2 o 3 desviaciones estándar?\n",
        "\n"
      ],
      "metadata": {
        "id": "dFi7waKubiwu"
      }
    },
    {
      "cell_type": "markdown",
      "source": [
        "\n",
        "Supongamos que contamos con una arreglo (lista, vector, columna, `pandas.Series` o lo que gustes). Vamos a llamar a este arreglo $\\vec{\\mathrm{x}}$, el cual esta conformado por $n$ número de elementos.\n",
        "\n",
        "Entonces una vista de $\\vec{\\mathrm{x}}$ sería:\n",
        "\n",
        "\n",
        "\\begin{equation*}\n",
        "\\vec{\\mathrm{x}} = \\{x_1, x_2, x_3, \\cdots , x_n\\}\n",
        "\\end{equation*}\n",
        "\n",
        "Este arreglo de elementos o conjunto de datos $\\vec{\\mathrm{x}}$, tiene un promedio $\\mu$ y una desviación estándar $\\sigma$. \n",
        "\n",
        "\n",
        "Ahora ¿cómo sabemos que tan dispersos están nuestros datos? ¿cuánta variabilidad hay de lo \"típico (que tan alejados del promedio $\\mu$ están)?\n",
        "\n",
        "Es importante definir una métrica, algo con que medir que tan lejos están los datos del promedio. Nuestra _regla_ o con lo que vamos a medir será la desviación estándar $\\sigma$. Es por eso que se dice que un dato se encuentra a 1$\\sigma$, 2$\\sigma$ o 3$\\sigma$.\n",
        "\n",
        "Tomemos en cuenta que los elementos de un conjunto de datos se pueden expresar como la media $\\mu$ más o menos $a$ veces la desviación estándar $\\sigma$\n",
        "\n",
        "\\begin{equation*}\n",
        "x_i = \\mu \\, + \\, a_i \\sigma\n",
        "\\end{equation*}\n",
        "\n",
        "Donde $x_i$ es un dato de nuestro conjunto $\\vec{\\mathrm{x}}$ y $a_i$ la podemos llamar nuestra distancia, es a cuántas desviaciones estándar $\\sigma$ esta nuestro dato del promedio $\\mu$. En algunas ocasiones $a_i$ será negativa, en ese caso, tomaremos el valor absoluto, ya que solo no importa el número, no tanto el signo que tenga y la representaremos como $\\mathbf{a_i}$.\n",
        "\n"
      ],
      "metadata": {
        "id": "3ETxiSDLkyfB"
      }
    },
    {
      "cell_type": "markdown",
      "source": [
        "### ¿Y como podemos calcular $a_i$ en nuestro conjunto de datos?"
      ],
      "metadata": {
        "id": "MMHvxpMPk1Fx"
      }
    },
    {
      "cell_type": "markdown",
      "source": [
        "Bueno, empecemos tomando la ecuación que se mostró anteriormente. Como es una ecuación, significa que lo que está de un lado es igual a lo que está del otro. Esto nos dice que si modificamos un lado, tenemos que hacer lo mismo del otro lado, sea sumar, restar, dividir o multiplicar, lo que hago de un lado, lo tengo que hacer del otro.\n",
        "\n",
        "\\begin{align*}\n",
        "x_i &= \\mu \\, + \\, a_i \\sigma \\\\\n",
        "x_i - \\mu &= \\mu \\, + \\, a_i \\sigma - \\mu \\\\\n",
        "x_i - \\mu &=  \\, a_i \\sigma \\\\\n",
        "\\frac{x_i - \\mu}{\\sigma} &=  \\frac{a_i \\sigma}{\\sigma} \\\\\n",
        "\\frac{x_i - \\mu}{\\sigma} &=  a_i\n",
        "\\end{align*}\n",
        "\n",
        "De la última ecuación, tomaremos solo el valor absoluto de los resultados para poder obtener $\\mathbf{a_i}$.\n",
        "\n",
        "\\begin{equation*}\n",
        "\\mathbf{a_i} = \\left| \\frac{x_i - \\mu}{\\sigma} \\right| =  \\left| a_i \\right|\n",
        "\\end{equation*}\n",
        "\n",
        "Bueno, esta ecuación dice que para encontrar a cuántas desviaciones estándar se encuentra un dato del _dataset_ hay que encontrar la diferencia (o resta) entre el dato y el promedio, y después dividirlo entre la desviación estándar.\n"
      ],
      "metadata": {
        "id": "oIgCuq2ClC4o"
      }
    },
    {
      "cell_type": "markdown",
      "source": [
        "### Ejemplo con código"
      ],
      "metadata": {
        "id": "esvg_Y80lCoO"
      }
    },
    {
      "cell_type": "markdown",
      "source": [
        "Vamos a ver un ejemplo con código. Para ello vamos a dar un promedio y desviación estándar, de esta manera usaremos pocos datos para poder ver bien lo que estamos haciendo"
      ],
      "metadata": {
        "id": "iS4om79sqxl1"
      }
    },
    {
      "cell_type": "code",
      "source": [
        "mu_ejemplo = 10   # Promedio\n",
        "sigma_ejemplo = 3 # Desviación estándar\n",
        "\n",
        "x = [7,9,12,15,11,10,12,6,4] # Conjunto de datos"
      ],
      "metadata": {
        "id": "ggn0LUeNqdh1"
      },
      "execution_count": 9,
      "outputs": []
    },
    {
      "cell_type": "code",
      "source": [
        "# Crear funcion que calcule distancias en terminos de desviacion estandar\n",
        "def distancia_en_desviacion_estandar(xi, promedio = mu_ejemplo, desviacion_estandar = sigma_ejemplo):\n",
        "    diferencia_dato_promedio = xi - promedio\n",
        "    ai = diferencia_dato_promedio / desviacion_estandar\n",
        "    distancia_desviacion_estandar = abs(ai)\n",
        "    return distancia_desviacion_estandar"
      ],
      "metadata": {
        "id": "KedLBy5rfjhZ"
      },
      "execution_count": 10,
      "outputs": []
    },
    {
      "cell_type": "code",
      "source": [
        "print(\"Conjunto de datos\")\n",
        "print(x)\n",
        "print(\" \")\n",
        "print(\"Número de desviaciones estándar entre los datos y el promedio\")\n",
        "print(list(map(distancia_en_desviacion_estandar, x)))"
      ],
      "metadata": {
        "colab": {
          "base_uri": "https://localhost:8080/"
        },
        "id": "kYcTaYJgs6Yg",
        "outputId": "14fa64ff-45e8-4e0f-d1e2-8a52027eb022"
      },
      "execution_count": 11,
      "outputs": [
        {
          "output_type": "stream",
          "name": "stdout",
          "text": [
            "Conjunto de datos\n",
            "[7, 9, 12, 15, 11, 10, 12, 6, 4]\n",
            " \n",
            "Número de desviaciones estándar entre los datos y el promedio\n",
            "[1.0, 0.3333333333333333, 0.6666666666666666, 1.6666666666666667, 0.3333333333333333, 0.0, 0.6666666666666666, 1.3333333333333333, 2.0]\n"
          ]
        }
      ]
    },
    {
      "cell_type": "markdown",
      "source": [
        "## Resto de los puntos"
      ],
      "metadata": {
        "id": "DkeWvYCYs1QM"
      }
    },
    {
      "cell_type": "markdown",
      "source": [
        "Para poder encontrar los datos que se encuentran a 1, 2 y 3 desviaciones estándar, vamos a crear una columna que se llame `'numero_std_de_media'` que contenga las distancias entre el dato y el promedio en términos de desviaciones estándar.\n",
        "\n",
        "No es necesario crear una función como la de la explicación. Podemos trabajar directamente con las columnas."
      ],
      "metadata": {
        "id": "3LJWzZsOt4mH"
      }
    },
    {
      "cell_type": "code",
      "source": [
        "df_meteoritos['numero_std_de_media'] = abs((df_meteoritos['estimated_diameter.meters.estimated_diameter_max'] \\\n",
        "                                            - df_meteoritos['estimated_diameter.meters.estimated_diameter_max'].mean())\\\n",
        "                                           /df_meteoritos['estimated_diameter.meters.estimated_diameter_max'].std())"
      ],
      "metadata": {
        "id": "CHHKE-SWtqcE"
      },
      "execution_count": 14,
      "outputs": []
    },
    {
      "cell_type": "code",
      "source": [
        "# 4. Obtén el porcentaje de muestras que están a una distancia de 1 desviación estándar del promedio.\n",
        "mask_1 = df_meteoritos['numero_std_de_media'] <= 1\n",
        "df_meteoritos[mask_1].shape[0] / num_filas"
      ],
      "metadata": {
        "colab": {
          "base_uri": "https://localhost:8080/"
        },
        "id": "rURyJfm_dwt0",
        "outputId": "89f17758-7351-4793-cfed-8f2c17dbaecd"
      },
      "execution_count": 15,
      "outputs": [
        {
          "output_type": "execute_result",
          "data": {
            "text/plain": [
              "0.9039039039039038"
            ]
          },
          "metadata": {},
          "execution_count": 15
        }
      ]
    },
    {
      "cell_type": "code",
      "source": [
        "# 5. Obtén el porcentaje de muestras que están a una distancia de 2 desviaciones estándares del promedio (multiplicar * 2).\n",
        "mask_2 = df_meteoritos['numero_std_de_media'] <= 2\n",
        "df_meteoritos[mask_2].shape[0] / num_filas"
      ],
      "metadata": {
        "colab": {
          "base_uri": "https://localhost:8080/"
        },
        "id": "i6XVBPomdwkq",
        "outputId": "ad9a7619-bb6f-4e3d-e7ad-c2cd04df487f"
      },
      "execution_count": 16,
      "outputs": [
        {
          "output_type": "execute_result",
          "data": {
            "text/plain": [
              "0.963963963963964"
            ]
          },
          "metadata": {},
          "execution_count": 16
        }
      ]
    },
    {
      "cell_type": "code",
      "source": [
        "# 6. Obtén el porcentaje de muestras que están a una distancia de 3 desviaciones estándares del promedio (multiplicar * 3).\n",
        "mask_3 = df_meteoritos['numero_std_de_media'] <= 3\n",
        "df_meteoritos[mask_3].shape[0] / num_filas"
      ],
      "metadata": {
        "colab": {
          "base_uri": "https://localhost:8080/"
        },
        "id": "qsw-IKoTej4u",
        "outputId": "7ba7fb85-df8b-4422-d89a-39003a6288b8"
      },
      "execution_count": 17,
      "outputs": [
        {
          "output_type": "execute_result",
          "data": {
            "text/plain": [
              "0.978978978978979"
            ]
          },
          "metadata": {},
          "execution_count": 17
        }
      ]
    },
    {
      "cell_type": "code",
      "source": [
        "# 7. Compara los porcentajes obtenidos y comenta con tus compañeros y la experta tus hallazgos. ¿Qué significa esto?\n",
        "#    ¿La definición de desviación estándar tiene sentido? ¿Qué puedo inferir acerca de la dispersión de mis datos a partir \n",
        "#    de los valores obtenidos?"
      ],
      "metadata": {
        "id": "-VQ54zSnelMf"
      },
      "execution_count": null,
      "outputs": []
    }
  ],
  "metadata": {
    "kernelspec": {
      "display_name": "Python 3",
      "language": "python",
      "name": "python3"
    },
    "language_info": {
      "codemirror_mode": {
        "name": "ipython",
        "version": 3
      },
      "file_extension": ".py",
      "mimetype": "text/x-python",
      "name": "python",
      "nbconvert_exporter": "python",
      "pygments_lexer": "ipython3",
      "version": "3.8.5"
    },
    "colab": {
      "provenance": [],
      "collapsed_sections": []
    }
  },
  "nbformat": 4,
  "nbformat_minor": 0
}