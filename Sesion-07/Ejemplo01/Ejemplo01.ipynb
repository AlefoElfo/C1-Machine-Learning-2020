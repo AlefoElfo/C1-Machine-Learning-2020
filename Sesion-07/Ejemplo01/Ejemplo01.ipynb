{
 "cells": [
  {
   "cell_type": "markdown",
   "metadata": {},
   "source": [
    "# Ejemplo 01\n",
    "***Dr Antonio Arista Jalife***\n",
    "\n",
    "En este ejemplo implementaremos una Máquina de Soporte Vectorial. No nos vamos a meter demasiado en como funciona por dentro, ya vimos que es una batalla que realmente nos va a desgastar mentalmente: En cambio, aplicaremos la máquina de soporte vectorial a un problema práctico. \n",
    "\n",
    "Primero, importamos las librerías de siempre, y generaremos Blobs para probar."
   ]
  },
  {
   "cell_type": "code",
   "execution_count": 1,
   "metadata": {
    "collapsed": true
   },
   "outputs": [],
   "source": [
    "import numpy as np\n",
    "from matplotlib import pyplot as plt\n",
    "from sklearn.datasets import make_blobs\n",
    "from sklearn.model_selection import train_test_split"
   ]
  },
  {
   "cell_type": "code",
   "execution_count": 2,
   "metadata": {},
   "outputs": [
    {
     "data": {
      "image/png": "[encoded data removed]",
      "text/plain": [
       "<matplotlib.figure.Figure at 0x2829206b400>"
      ]
     },
     "metadata": {},
     "output_type": "display_data"
    }
   ],
   "source": [
    "x, y = make_blobs(n_samples=1000, centers=2, n_features=10)\n",
    "plt.scatter(x[:,0], x[:,1], c=y)\n",
    "plt.show()\n",
    "\n",
    "x_train, x_test, y_train, y_test = train_test_split(x,y,test_size=0.4)"
   ]
  },
  {
   "cell_type": "markdown",
   "metadata": {},
   "source": [
    "Luego, importaremos de la librería de SVM, el classificador de soporte vectorial. En la literatura, las máquinas de soporte vectorial se escriben como SVM (Support Vector Machines)"
   ]
  },
  {
   "cell_type": "code",
   "execution_count": 3,
   "metadata": {
    "collapsed": true
   },
   "outputs": [],
   "source": [
    "from sklearn.svm import SVC #Support Vector Classifier\n",
    "from sklearn.pipeline import make_pipeline"
   ]
  },
  {
   "cell_type": "markdown",
   "metadata": {},
   "source": [
    "Creamos el clasificador, y le sometemos los datos que tenemos. Recuerda que hay que pedirle que entrene y luego que genere una predicción, al igual que todos los clasificadores"
   ]
  },
  {
   "cell_type": "code",
   "execution_count": 4,
   "metadata": {
    "collapsed": true
   },
   "outputs": [],
   "source": [
    "SupportVectorMachine = SVC()\n",
    "SupportVectorMachine.fit(x_train, y_train) \n",
    "y_pred = SupportVectorMachine.predict(x_test) "
   ]
  },
  {
   "cell_type": "markdown",
   "metadata": {},
   "source": [
    "Finalmente, utilizando el código de la Sesión 02, evaluaremos que tan bueno es el clasificador."
   ]
  },
  {
   "cell_type": "code",
   "execution_count": 5,
   "metadata": {},
   "outputs": [
    {
     "name": "stdout",
     "output_type": "stream",
     "text": [
      "[[193   0]\n",
      " [  0 207]]\n",
      "True positives: 207\n",
      "True negatives: 193\n",
      "False positives: 0\n",
      "False negative: 0\n",
      "Precision:100.0%\n",
      "Sensibilidad:100.0%\n",
      "Especificidad:100.0%\n"
     ]
    }
   ],
   "source": [
    "from sklearn.metrics import confusion_matrix\n",
    "\n",
    "def calcularAccuracy(TP, TN, FP, FN):\n",
    "    accuracy = (TP + TN) / (TP + TN + FP + FN)\n",
    "    accuracy = accuracy * 100\n",
    "    return accuracy\n",
    "def calcularSensibilidad(TP, TN, FP, FN):\n",
    "    sensibilidad = TP / (TP + FN)\n",
    "    sensibilidad = sensibilidad * 100\n",
    "    return sensibilidad\n",
    "def calcularEspecificidad(TP, TN, FP, FN):\n",
    "    especificidad = TN / (TN + FP)\n",
    "    especificidad = especificidad * 100\n",
    "    return especificidad\n",
    "\n",
    "resultado = confusion_matrix(y_test, y_pred)\n",
    "print(resultado)\n",
    "(TN, FP, FN, TP) = resultado.ravel()\n",
    "print(\"True positives: \"+str(TP))\n",
    "print(\"True negatives: \"+str(TN))\n",
    "print(\"False positives: \"+str(FP))\n",
    "print(\"False negative: \"+str(FN))\n",
    "\n",
    "acc = calcularAccuracy(TP, TN, FP, FN)\n",
    "sen = calcularSensibilidad(TP, TN, FP, FN)\n",
    "spec = calcularEspecificidad(TP, TN, FP, FN)\n",
    "print(\"Precision:\"+str(acc)+\"%\")\n",
    "print(\"Sensibilidad:\"+str(sen)+\"%\")\n",
    "print(\"Especificidad:\"+str(spec)+\"%\")"
   ]
  },
  {
   "cell_type": "markdown",
   "metadata": {},
   "source": [
    "Se prueba con modelo Bayes Ingenuo (sesión 7)"
   ]
  },
  {
   "cell_type": "code",
   "execution_count": 3,
   "metadata": {
    "collapsed": true
   },
   "outputs": [
    {
     "ename": "NameError",
     "evalue": "name 'x_train' is not defined",
     "output_type": "error",
     "traceback": [
      "\u001b[1;31m---------------------------------------------------------------------------\u001b[0m",
      "\u001b[1;31mNameError\u001b[0m                                 Traceback (most recent call last)",
      "\u001b[1;32md:\\OneDrive\\Programación - Code\\BEDU. Data Análisis\\Fase 3\\C1-Machine-Learning-2020\\C1-Machine-Learning-2020\\Sesion-07\\Ejemplo01\\Ejemplo01.ipynb Celda 11\u001b[0m in \u001b[0;36m<cell line: 3>\u001b[1;34m()\u001b[0m\n\u001b[0;32m      <a href='vscode-notebook-cell:/d%3A/OneDrive/Programaci%C3%B3n%20-%20Code/BEDU.%20Data%20An%C3%A1lisis/Fase%203/C1-Machine-Learning-2020/C1-Machine-Learning-2020/Sesion-07/Ejemplo01/Ejemplo01.ipynb#X12sZmlsZQ%3D%3D?line=0'>1</a>\u001b[0m \u001b[39mfrom\u001b[39;00m \u001b[39msklearn\u001b[39;00m\u001b[39m.\u001b[39;00m\u001b[39mnaive_bayes\u001b[39;00m \u001b[39mimport\u001b[39;00m GaussianNB\n\u001b[0;32m      <a href='vscode-notebook-cell:/d%3A/OneDrive/Programaci%C3%B3n%20-%20Code/BEDU.%20Data%20An%C3%A1lisis/Fase%203/C1-Machine-Learning-2020/C1-Machine-Learning-2020/Sesion-07/Ejemplo01/Ejemplo01.ipynb#X12sZmlsZQ%3D%3D?line=1'>2</a>\u001b[0m NaiveBayes \u001b[39m=\u001b[39m GaussianNB()\n\u001b[1;32m----> <a href='vscode-notebook-cell:/d%3A/OneDrive/Programaci%C3%B3n%20-%20Code/BEDU.%20Data%20An%C3%A1lisis/Fase%203/C1-Machine-Learning-2020/C1-Machine-Learning-2020/Sesion-07/Ejemplo01/Ejemplo01.ipynb#X12sZmlsZQ%3D%3D?line=2'>3</a>\u001b[0m NaiveBayes\u001b[39m.\u001b[39mfit(x_train, y_train)\n\u001b[0;32m      <a href='vscode-notebook-cell:/d%3A/OneDrive/Programaci%C3%B3n%20-%20Code/BEDU.%20Data%20An%C3%A1lisis/Fase%203/C1-Machine-Learning-2020/C1-Machine-Learning-2020/Sesion-07/Ejemplo01/Ejemplo01.ipynb#X12sZmlsZQ%3D%3D?line=3'>4</a>\u001b[0m y_pred \u001b[39m=\u001b[39m NaiveBayes\u001b[39m.\u001b[39mpredict(x_test)\n",
      "\u001b[1;31mNameError\u001b[0m: name 'x_train' is not defined"
     ]
    }
   ],
   "source": [
    "from sklearn.naive_bayes import GaussianNB\n",
    "NaiveBayes = GaussianNB()\n",
    "NaiveBayes.fit(x_train, y_train)\n",
    "y_pred = NaiveBayes.predict(x_test)"
   ]
  },
  {
   "cell_type": "markdown",
   "metadata": {},
   "source": [
    "Termina el código, ALef! y testéalo. Debe darte los mismos resultados"
   ]
  }
 ],
 "metadata": {
  "kernelspec": {
   "display_name": "Python 3.9.7 ('base')",
   "language": "python",
   "name": "python3"
  },
  "language_info": {
   "codemirror_mode": {
    "name": "ipython",
    "version": 3
   },
   "file_extension": ".py",
   "mimetype": "text/x-python",
   "name": "python",
   "nbconvert_exporter": "python",
   "pygments_lexer": "ipython3",
   "version": "3.9.7"
  },
  "vscode": {
   "interpreter": {
    "hash": "f363b6552389bb5843ae6ef674413dc477fa310722bf5be5fb5c6d7e5809c86d"
   }
  }
 },
 "nbformat": 4,
 "nbformat_minor": 2
}
